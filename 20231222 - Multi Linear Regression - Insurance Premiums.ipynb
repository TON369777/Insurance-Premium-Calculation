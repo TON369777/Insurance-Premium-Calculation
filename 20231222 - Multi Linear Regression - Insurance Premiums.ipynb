{
 "cells": [
  {
   "cell_type": "code",
   "execution_count": 1,
   "id": "2d1061ba",
   "metadata": {},
   "outputs": [],
   "source": [
    "import pandas as pd\n",
    "import numpy as np\n",
    "import seaborn as sns\n",
    "import matplotlib.pyplot as plt"
   ]
  },
  {
   "cell_type": "markdown",
   "id": "b5822146",
   "metadata": {},
   "source": [
    "# Multiple Linear Regression\n",
    "#### Engineering formula through machine learning to calculate insurance premiums\n",
    "#### Data set obtained from: https://www.kaggle.com/datasets/simranjain17/insurance"
   ]
  },
  {
   "cell_type": "code",
   "execution_count": 6,
   "id": "c271d0cc",
   "metadata": {},
   "outputs": [],
   "source": [
    "prem_data = pd.read_csv('insurance.csv')"
   ]
  },
  {
   "cell_type": "code",
   "execution_count": 7,
   "id": "24fc1645",
   "metadata": {},
   "outputs": [
    {
     "data": {
      "text/html": [
       "<div>\n",
       "<style scoped>\n",
       "    .dataframe tbody tr th:only-of-type {\n",
       "        vertical-align: middle;\n",
       "    }\n",
       "\n",
       "    .dataframe tbody tr th {\n",
       "        vertical-align: top;\n",
       "    }\n",
       "\n",
       "    .dataframe thead th {\n",
       "        text-align: right;\n",
       "    }\n",
       "</style>\n",
       "<table border=\"1\" class=\"dataframe\">\n",
       "  <thead>\n",
       "    <tr style=\"text-align: right;\">\n",
       "      <th></th>\n",
       "      <th>age</th>\n",
       "      <th>sex</th>\n",
       "      <th>bmi</th>\n",
       "      <th>children</th>\n",
       "      <th>smoker</th>\n",
       "      <th>region</th>\n",
       "      <th>charges</th>\n",
       "    </tr>\n",
       "  </thead>\n",
       "  <tbody>\n",
       "    <tr>\n",
       "      <th>0</th>\n",
       "      <td>19</td>\n",
       "      <td>female</td>\n",
       "      <td>27.900</td>\n",
       "      <td>0</td>\n",
       "      <td>yes</td>\n",
       "      <td>southwest</td>\n",
       "      <td>16884.92400</td>\n",
       "    </tr>\n",
       "    <tr>\n",
       "      <th>1</th>\n",
       "      <td>18</td>\n",
       "      <td>male</td>\n",
       "      <td>33.770</td>\n",
       "      <td>1</td>\n",
       "      <td>no</td>\n",
       "      <td>southeast</td>\n",
       "      <td>1725.55230</td>\n",
       "    </tr>\n",
       "    <tr>\n",
       "      <th>2</th>\n",
       "      <td>28</td>\n",
       "      <td>male</td>\n",
       "      <td>33.000</td>\n",
       "      <td>3</td>\n",
       "      <td>no</td>\n",
       "      <td>southeast</td>\n",
       "      <td>4449.46200</td>\n",
       "    </tr>\n",
       "    <tr>\n",
       "      <th>3</th>\n",
       "      <td>33</td>\n",
       "      <td>male</td>\n",
       "      <td>22.705</td>\n",
       "      <td>0</td>\n",
       "      <td>no</td>\n",
       "      <td>northwest</td>\n",
       "      <td>21984.47061</td>\n",
       "    </tr>\n",
       "    <tr>\n",
       "      <th>4</th>\n",
       "      <td>32</td>\n",
       "      <td>male</td>\n",
       "      <td>28.880</td>\n",
       "      <td>0</td>\n",
       "      <td>no</td>\n",
       "      <td>northwest</td>\n",
       "      <td>3866.85520</td>\n",
       "    </tr>\n",
       "  </tbody>\n",
       "</table>\n",
       "</div>"
      ],
      "text/plain": [
       "   age     sex     bmi  children smoker     region      charges\n",
       "0   19  female  27.900         0    yes  southwest  16884.92400\n",
       "1   18    male  33.770         1     no  southeast   1725.55230\n",
       "2   28    male  33.000         3     no  southeast   4449.46200\n",
       "3   33    male  22.705         0     no  northwest  21984.47061\n",
       "4   32    male  28.880         0     no  northwest   3866.85520"
      ]
     },
     "execution_count": 7,
     "metadata": {},
     "output_type": "execute_result"
    }
   ],
   "source": [
    "prem_data.head()"
   ]
  },
  {
   "cell_type": "code",
   "execution_count": 8,
   "id": "eae37802",
   "metadata": {},
   "outputs": [
    {
     "name": "stdout",
     "output_type": "stream",
     "text": [
      "<class 'pandas.core.frame.DataFrame'>\n",
      "RangeIndex: 1338 entries, 0 to 1337\n",
      "Data columns (total 7 columns):\n",
      " #   Column    Non-Null Count  Dtype  \n",
      "---  ------    --------------  -----  \n",
      " 0   age       1338 non-null   int64  \n",
      " 1   sex       1338 non-null   object \n",
      " 2   bmi       1338 non-null   float64\n",
      " 3   children  1338 non-null   int64  \n",
      " 4   smoker    1338 non-null   object \n",
      " 5   region    1338 non-null   object \n",
      " 6   charges   1338 non-null   float64\n",
      "dtypes: float64(2), int64(2), object(3)\n",
      "memory usage: 73.3+ KB\n"
     ]
    }
   ],
   "source": [
    "prem_data.info()"
   ]
  },
  {
   "cell_type": "code",
   "execution_count": 9,
   "id": "eeb321ea",
   "metadata": {},
   "outputs": [
    {
     "data": {
      "text/plain": [
       "age         0\n",
       "sex         0\n",
       "bmi         0\n",
       "children    0\n",
       "smoker      0\n",
       "region      0\n",
       "charges     0\n",
       "dtype: int64"
      ]
     },
     "execution_count": 9,
     "metadata": {},
     "output_type": "execute_result"
    }
   ],
   "source": [
    "prem_data.isnull().sum()\n",
    "# no null values - perfect"
   ]
  },
  {
   "cell_type": "code",
   "execution_count": 49,
   "id": "07255008",
   "metadata": {},
   "outputs": [
    {
     "data": {
      "text/html": [
       "<div>\n",
       "<style scoped>\n",
       "    .dataframe tbody tr th:only-of-type {\n",
       "        vertical-align: middle;\n",
       "    }\n",
       "\n",
       "    .dataframe tbody tr th {\n",
       "        vertical-align: top;\n",
       "    }\n",
       "\n",
       "    .dataframe thead th {\n",
       "        text-align: right;\n",
       "    }\n",
       "</style>\n",
       "<table border=\"1\" class=\"dataframe\">\n",
       "  <thead>\n",
       "    <tr style=\"text-align: right;\">\n",
       "      <th></th>\n",
       "      <th>age</th>\n",
       "      <th>bmi</th>\n",
       "      <th>children</th>\n",
       "      <th>charges</th>\n",
       "      <th>sex_c</th>\n",
       "      <th>smoker_c</th>\n",
       "      <th>region_c</th>\n",
       "    </tr>\n",
       "  </thead>\n",
       "  <tbody>\n",
       "    <tr>\n",
       "      <th>count</th>\n",
       "      <td>1338.000000</td>\n",
       "      <td>1338.000000</td>\n",
       "      <td>1338.000000</td>\n",
       "      <td>1338.000000</td>\n",
       "      <td>1338.000000</td>\n",
       "      <td>1338.000000</td>\n",
       "      <td>1338.000000</td>\n",
       "    </tr>\n",
       "    <tr>\n",
       "      <th>mean</th>\n",
       "      <td>39.207025</td>\n",
       "      <td>30.663397</td>\n",
       "      <td>1.094918</td>\n",
       "      <td>13270.422265</td>\n",
       "      <td>0.505232</td>\n",
       "      <td>0.204783</td>\n",
       "      <td>1.515695</td>\n",
       "    </tr>\n",
       "    <tr>\n",
       "      <th>std</th>\n",
       "      <td>14.049960</td>\n",
       "      <td>6.098187</td>\n",
       "      <td>1.205493</td>\n",
       "      <td>12110.011237</td>\n",
       "      <td>0.500160</td>\n",
       "      <td>0.403694</td>\n",
       "      <td>1.104885</td>\n",
       "    </tr>\n",
       "    <tr>\n",
       "      <th>min</th>\n",
       "      <td>18.000000</td>\n",
       "      <td>15.960000</td>\n",
       "      <td>0.000000</td>\n",
       "      <td>1121.873900</td>\n",
       "      <td>0.000000</td>\n",
       "      <td>0.000000</td>\n",
       "      <td>0.000000</td>\n",
       "    </tr>\n",
       "    <tr>\n",
       "      <th>25%</th>\n",
       "      <td>27.000000</td>\n",
       "      <td>26.296250</td>\n",
       "      <td>0.000000</td>\n",
       "      <td>4740.287150</td>\n",
       "      <td>0.000000</td>\n",
       "      <td>0.000000</td>\n",
       "      <td>1.000000</td>\n",
       "    </tr>\n",
       "    <tr>\n",
       "      <th>50%</th>\n",
       "      <td>39.000000</td>\n",
       "      <td>30.400000</td>\n",
       "      <td>1.000000</td>\n",
       "      <td>9382.033000</td>\n",
       "      <td>1.000000</td>\n",
       "      <td>0.000000</td>\n",
       "      <td>2.000000</td>\n",
       "    </tr>\n",
       "    <tr>\n",
       "      <th>75%</th>\n",
       "      <td>51.000000</td>\n",
       "      <td>34.693750</td>\n",
       "      <td>2.000000</td>\n",
       "      <td>16639.912515</td>\n",
       "      <td>1.000000</td>\n",
       "      <td>0.000000</td>\n",
       "      <td>2.000000</td>\n",
       "    </tr>\n",
       "    <tr>\n",
       "      <th>max</th>\n",
       "      <td>64.000000</td>\n",
       "      <td>53.130000</td>\n",
       "      <td>5.000000</td>\n",
       "      <td>63770.428010</td>\n",
       "      <td>1.000000</td>\n",
       "      <td>1.000000</td>\n",
       "      <td>3.000000</td>\n",
       "    </tr>\n",
       "  </tbody>\n",
       "</table>\n",
       "</div>"
      ],
      "text/plain": [
       "               age          bmi     children       charges        sex_c  \\\n",
       "count  1338.000000  1338.000000  1338.000000   1338.000000  1338.000000   \n",
       "mean     39.207025    30.663397     1.094918  13270.422265     0.505232   \n",
       "std      14.049960     6.098187     1.205493  12110.011237     0.500160   \n",
       "min      18.000000    15.960000     0.000000   1121.873900     0.000000   \n",
       "25%      27.000000    26.296250     0.000000   4740.287150     0.000000   \n",
       "50%      39.000000    30.400000     1.000000   9382.033000     1.000000   \n",
       "75%      51.000000    34.693750     2.000000  16639.912515     1.000000   \n",
       "max      64.000000    53.130000     5.000000  63770.428010     1.000000   \n",
       "\n",
       "          smoker_c     region_c  \n",
       "count  1338.000000  1338.000000  \n",
       "mean      0.204783     1.515695  \n",
       "std       0.403694     1.104885  \n",
       "min       0.000000     0.000000  \n",
       "25%       0.000000     1.000000  \n",
       "50%       0.000000     2.000000  \n",
       "75%       0.000000     2.000000  \n",
       "max       1.000000     3.000000  "
      ]
     },
     "execution_count": 49,
     "metadata": {},
     "output_type": "execute_result"
    }
   ],
   "source": [
    "prem_data.describe()"
   ]
  },
  {
   "cell_type": "markdown",
   "id": "0dc2ba7f",
   "metadata": {},
   "source": [
    "#### Examining unique values of certain columns + if they can be categorised"
   ]
  },
  {
   "cell_type": "code",
   "execution_count": 10,
   "id": "05aea817",
   "metadata": {},
   "outputs": [
    {
     "data": {
      "text/plain": [
       "array(['female', 'male'], dtype=object)"
      ]
     },
     "execution_count": 10,
     "metadata": {},
     "output_type": "execute_result"
    }
   ],
   "source": [
    "prem_data['sex'].unique()"
   ]
  },
  {
   "cell_type": "code",
   "execution_count": 11,
   "id": "055cd900",
   "metadata": {},
   "outputs": [
    {
     "data": {
      "text/plain": [
       "array(['yes', 'no'], dtype=object)"
      ]
     },
     "execution_count": 11,
     "metadata": {},
     "output_type": "execute_result"
    }
   ],
   "source": [
    "prem_data['smoker'].unique()"
   ]
  },
  {
   "cell_type": "code",
   "execution_count": 12,
   "id": "56234f81",
   "metadata": {},
   "outputs": [
    {
     "data": {
      "text/plain": [
       "array(['southwest', 'southeast', 'northwest', 'northeast'], dtype=object)"
      ]
     },
     "execution_count": 12,
     "metadata": {},
     "output_type": "execute_result"
    }
   ],
   "source": [
    "prem_data['region'].unique()"
   ]
  },
  {
   "cell_type": "code",
   "execution_count": 13,
   "id": "68271999",
   "metadata": {},
   "outputs": [
    {
     "data": {
      "text/plain": [
       "array([0, 1, 3, 2, 5, 4], dtype=int64)"
      ]
     },
     "execution_count": 13,
     "metadata": {},
     "output_type": "execute_result"
    }
   ],
   "source": [
    "prem_data['children'].unique()"
   ]
  },
  {
   "cell_type": "code",
   "execution_count": 14,
   "id": "848a3f37",
   "metadata": {},
   "outputs": [],
   "source": [
    "prem_data['sex'] = prem_data['sex'].astype('category')\n",
    "prem_data['sex_c'] = prem_data['sex'].cat.codes\n",
    "prem_data['smoker'] = prem_data['smoker'].astype('category')\n",
    "prem_data['smoker_c'] = prem_data['smoker'].cat.codes\n",
    "prem_data['region'] = prem_data['region'].astype('category')\n",
    "prem_data['region_c'] = prem_data['region'].cat.codes\n",
    "#new columns are created so we can keep track of what category is converted to which number"
   ]
  },
  {
   "cell_type": "code",
   "execution_count": 15,
   "id": "0ae8e58e",
   "metadata": {},
   "outputs": [],
   "source": [
    "prem_data['sex_c'] = prem_data['sex_c'].astype('float')\n",
    "prem_data['smoker_c'] = prem_data['smoker_c'].astype('float')\n",
    "prem_data['region_c'] = prem_data['region_c'].astype('float')"
   ]
  },
  {
   "cell_type": "code",
   "execution_count": 16,
   "id": "90235761",
   "metadata": {},
   "outputs": [
    {
     "data": {
      "text/html": [
       "<div>\n",
       "<style scoped>\n",
       "    .dataframe tbody tr th:only-of-type {\n",
       "        vertical-align: middle;\n",
       "    }\n",
       "\n",
       "    .dataframe tbody tr th {\n",
       "        vertical-align: top;\n",
       "    }\n",
       "\n",
       "    .dataframe thead th {\n",
       "        text-align: right;\n",
       "    }\n",
       "</style>\n",
       "<table border=\"1\" class=\"dataframe\">\n",
       "  <thead>\n",
       "    <tr style=\"text-align: right;\">\n",
       "      <th></th>\n",
       "      <th>age</th>\n",
       "      <th>sex</th>\n",
       "      <th>bmi</th>\n",
       "      <th>children</th>\n",
       "      <th>smoker</th>\n",
       "      <th>region</th>\n",
       "      <th>charges</th>\n",
       "      <th>sex_c</th>\n",
       "      <th>smoker_c</th>\n",
       "      <th>region_c</th>\n",
       "    </tr>\n",
       "  </thead>\n",
       "  <tbody>\n",
       "    <tr>\n",
       "      <th>0</th>\n",
       "      <td>19</td>\n",
       "      <td>female</td>\n",
       "      <td>27.900</td>\n",
       "      <td>0</td>\n",
       "      <td>yes</td>\n",
       "      <td>southwest</td>\n",
       "      <td>16884.92400</td>\n",
       "      <td>0.0</td>\n",
       "      <td>1.0</td>\n",
       "      <td>3.0</td>\n",
       "    </tr>\n",
       "    <tr>\n",
       "      <th>1</th>\n",
       "      <td>18</td>\n",
       "      <td>male</td>\n",
       "      <td>33.770</td>\n",
       "      <td>1</td>\n",
       "      <td>no</td>\n",
       "      <td>southeast</td>\n",
       "      <td>1725.55230</td>\n",
       "      <td>1.0</td>\n",
       "      <td>0.0</td>\n",
       "      <td>2.0</td>\n",
       "    </tr>\n",
       "    <tr>\n",
       "      <th>2</th>\n",
       "      <td>28</td>\n",
       "      <td>male</td>\n",
       "      <td>33.000</td>\n",
       "      <td>3</td>\n",
       "      <td>no</td>\n",
       "      <td>southeast</td>\n",
       "      <td>4449.46200</td>\n",
       "      <td>1.0</td>\n",
       "      <td>0.0</td>\n",
       "      <td>2.0</td>\n",
       "    </tr>\n",
       "    <tr>\n",
       "      <th>3</th>\n",
       "      <td>33</td>\n",
       "      <td>male</td>\n",
       "      <td>22.705</td>\n",
       "      <td>0</td>\n",
       "      <td>no</td>\n",
       "      <td>northwest</td>\n",
       "      <td>21984.47061</td>\n",
       "      <td>1.0</td>\n",
       "      <td>0.0</td>\n",
       "      <td>1.0</td>\n",
       "    </tr>\n",
       "    <tr>\n",
       "      <th>4</th>\n",
       "      <td>32</td>\n",
       "      <td>male</td>\n",
       "      <td>28.880</td>\n",
       "      <td>0</td>\n",
       "      <td>no</td>\n",
       "      <td>northwest</td>\n",
       "      <td>3866.85520</td>\n",
       "      <td>1.0</td>\n",
       "      <td>0.0</td>\n",
       "      <td>1.0</td>\n",
       "    </tr>\n",
       "  </tbody>\n",
       "</table>\n",
       "</div>"
      ],
      "text/plain": [
       "   age     sex     bmi  children smoker     region      charges  sex_c  \\\n",
       "0   19  female  27.900         0    yes  southwest  16884.92400    0.0   \n",
       "1   18    male  33.770         1     no  southeast   1725.55230    1.0   \n",
       "2   28    male  33.000         3     no  southeast   4449.46200    1.0   \n",
       "3   33    male  22.705         0     no  northwest  21984.47061    1.0   \n",
       "4   32    male  28.880         0     no  northwest   3866.85520    1.0   \n",
       "\n",
       "   smoker_c  region_c  \n",
       "0       1.0       3.0  \n",
       "1       0.0       2.0  \n",
       "2       0.0       2.0  \n",
       "3       0.0       1.0  \n",
       "4       0.0       1.0  "
      ]
     },
     "execution_count": 16,
     "metadata": {},
     "output_type": "execute_result"
    }
   ],
   "source": [
    "prem_data.head()"
   ]
  },
  {
   "cell_type": "markdown",
   "id": "6a030bb1",
   "metadata": {},
   "source": [
    "#### Setting up predictors"
   ]
  },
  {
   "cell_type": "code",
   "execution_count": 19,
   "id": "a76b3a66",
   "metadata": {},
   "outputs": [
    {
     "data": {
      "text/html": [
       "<div>\n",
       "<style scoped>\n",
       "    .dataframe tbody tr th:only-of-type {\n",
       "        vertical-align: middle;\n",
       "    }\n",
       "\n",
       "    .dataframe tbody tr th {\n",
       "        vertical-align: top;\n",
       "    }\n",
       "\n",
       "    .dataframe thead th {\n",
       "        text-align: right;\n",
       "    }\n",
       "</style>\n",
       "<table border=\"1\" class=\"dataframe\">\n",
       "  <thead>\n",
       "    <tr style=\"text-align: right;\">\n",
       "      <th></th>\n",
       "      <th>age</th>\n",
       "      <th>bmi</th>\n",
       "      <th>children</th>\n",
       "      <th>sex_c</th>\n",
       "      <th>smoker_c</th>\n",
       "      <th>region_c</th>\n",
       "    </tr>\n",
       "  </thead>\n",
       "  <tbody>\n",
       "    <tr>\n",
       "      <th>0</th>\n",
       "      <td>19</td>\n",
       "      <td>27.900</td>\n",
       "      <td>0</td>\n",
       "      <td>0.0</td>\n",
       "      <td>1.0</td>\n",
       "      <td>3.0</td>\n",
       "    </tr>\n",
       "    <tr>\n",
       "      <th>1</th>\n",
       "      <td>18</td>\n",
       "      <td>33.770</td>\n",
       "      <td>1</td>\n",
       "      <td>1.0</td>\n",
       "      <td>0.0</td>\n",
       "      <td>2.0</td>\n",
       "    </tr>\n",
       "    <tr>\n",
       "      <th>2</th>\n",
       "      <td>28</td>\n",
       "      <td>33.000</td>\n",
       "      <td>3</td>\n",
       "      <td>1.0</td>\n",
       "      <td>0.0</td>\n",
       "      <td>2.0</td>\n",
       "    </tr>\n",
       "    <tr>\n",
       "      <th>3</th>\n",
       "      <td>33</td>\n",
       "      <td>22.705</td>\n",
       "      <td>0</td>\n",
       "      <td>1.0</td>\n",
       "      <td>0.0</td>\n",
       "      <td>1.0</td>\n",
       "    </tr>\n",
       "    <tr>\n",
       "      <th>4</th>\n",
       "      <td>32</td>\n",
       "      <td>28.880</td>\n",
       "      <td>0</td>\n",
       "      <td>1.0</td>\n",
       "      <td>0.0</td>\n",
       "      <td>1.0</td>\n",
       "    </tr>\n",
       "    <tr>\n",
       "      <th>...</th>\n",
       "      <td>...</td>\n",
       "      <td>...</td>\n",
       "      <td>...</td>\n",
       "      <td>...</td>\n",
       "      <td>...</td>\n",
       "      <td>...</td>\n",
       "    </tr>\n",
       "    <tr>\n",
       "      <th>1333</th>\n",
       "      <td>50</td>\n",
       "      <td>30.970</td>\n",
       "      <td>3</td>\n",
       "      <td>1.0</td>\n",
       "      <td>0.0</td>\n",
       "      <td>1.0</td>\n",
       "    </tr>\n",
       "    <tr>\n",
       "      <th>1334</th>\n",
       "      <td>18</td>\n",
       "      <td>31.920</td>\n",
       "      <td>0</td>\n",
       "      <td>0.0</td>\n",
       "      <td>0.0</td>\n",
       "      <td>0.0</td>\n",
       "    </tr>\n",
       "    <tr>\n",
       "      <th>1335</th>\n",
       "      <td>18</td>\n",
       "      <td>36.850</td>\n",
       "      <td>0</td>\n",
       "      <td>0.0</td>\n",
       "      <td>0.0</td>\n",
       "      <td>2.0</td>\n",
       "    </tr>\n",
       "    <tr>\n",
       "      <th>1336</th>\n",
       "      <td>21</td>\n",
       "      <td>25.800</td>\n",
       "      <td>0</td>\n",
       "      <td>0.0</td>\n",
       "      <td>0.0</td>\n",
       "      <td>3.0</td>\n",
       "    </tr>\n",
       "    <tr>\n",
       "      <th>1337</th>\n",
       "      <td>61</td>\n",
       "      <td>29.070</td>\n",
       "      <td>0</td>\n",
       "      <td>0.0</td>\n",
       "      <td>1.0</td>\n",
       "      <td>1.0</td>\n",
       "    </tr>\n",
       "  </tbody>\n",
       "</table>\n",
       "<p>1338 rows × 6 columns</p>\n",
       "</div>"
      ],
      "text/plain": [
       "      age     bmi  children  sex_c  smoker_c  region_c\n",
       "0      19  27.900         0    0.0       1.0       3.0\n",
       "1      18  33.770         1    1.0       0.0       2.0\n",
       "2      28  33.000         3    1.0       0.0       2.0\n",
       "3      33  22.705         0    1.0       0.0       1.0\n",
       "4      32  28.880         0    1.0       0.0       1.0\n",
       "...   ...     ...       ...    ...       ...       ...\n",
       "1333   50  30.970         3    1.0       0.0       1.0\n",
       "1334   18  31.920         0    0.0       0.0       0.0\n",
       "1335   18  36.850         0    0.0       0.0       2.0\n",
       "1336   21  25.800         0    0.0       0.0       3.0\n",
       "1337   61  29.070         0    0.0       1.0       1.0\n",
       "\n",
       "[1338 rows x 6 columns]"
      ]
     },
     "execution_count": 19,
     "metadata": {},
     "output_type": "execute_result"
    }
   ],
   "source": [
    "X = prem_data.drop(columns = ['charges','sex','smoker','region'])\n",
    "X\n",
    "# the original columns for sex, smoker and region are dropped as model will not utilise these\n",
    "# sex: Female - 0, Male - 1\n",
    "# smoker: yes - 1, No - 0\n",
    "# region: southwest - 3, southeast - 2, northwest - 1, northeast - 0"
   ]
  },
  {
   "cell_type": "markdown",
   "id": "c617df08",
   "metadata": {},
   "source": [
    "#### Setting up Premium Charges as target"
   ]
  },
  {
   "cell_type": "code",
   "execution_count": 20,
   "id": "bfc73a0d",
   "metadata": {},
   "outputs": [
    {
     "data": {
      "text/plain": [
       "0       16884.92400\n",
       "1        1725.55230\n",
       "2        4449.46200\n",
       "3       21984.47061\n",
       "4        3866.85520\n",
       "           ...     \n",
       "1333    10600.54830\n",
       "1334     2205.98080\n",
       "1335     1629.83350\n",
       "1336     2007.94500\n",
       "1337    29141.36030\n",
       "Name: charges, Length: 1338, dtype: float64"
      ]
     },
     "execution_count": 20,
     "metadata": {},
     "output_type": "execute_result"
    }
   ],
   "source": [
    "y = prem_data['charges']\n",
    "y"
   ]
  },
  {
   "cell_type": "code",
   "execution_count": 21,
   "id": "09e60e03",
   "metadata": {},
   "outputs": [],
   "source": [
    "from sklearn.model_selection import train_test_split\n",
    "X_train, X_test, y_train, y_test = train_test_split(X,y, test_size = 0.3, random_state = 1)\n",
    "# Splitting data set between training and test data, 70/30 split"
   ]
  },
  {
   "cell_type": "code",
   "execution_count": 23,
   "id": "44105715",
   "metadata": {},
   "outputs": [],
   "source": [
    "from sklearn.linear_model import LinearRegression\n",
    "lr = LinearRegression()"
   ]
  },
  {
   "cell_type": "code",
   "execution_count": 24,
   "id": "2e3ac613",
   "metadata": {},
   "outputs": [
    {
     "data": {
      "text/html": [
       "<style>#sk-container-id-1 {color: black;}#sk-container-id-1 pre{padding: 0;}#sk-container-id-1 div.sk-toggleable {background-color: white;}#sk-container-id-1 label.sk-toggleable__label {cursor: pointer;display: block;width: 100%;margin-bottom: 0;padding: 0.3em;box-sizing: border-box;text-align: center;}#sk-container-id-1 label.sk-toggleable__label-arrow:before {content: \"▸\";float: left;margin-right: 0.25em;color: #696969;}#sk-container-id-1 label.sk-toggleable__label-arrow:hover:before {color: black;}#sk-container-id-1 div.sk-estimator:hover label.sk-toggleable__label-arrow:before {color: black;}#sk-container-id-1 div.sk-toggleable__content {max-height: 0;max-width: 0;overflow: hidden;text-align: left;background-color: #f0f8ff;}#sk-container-id-1 div.sk-toggleable__content pre {margin: 0.2em;color: black;border-radius: 0.25em;background-color: #f0f8ff;}#sk-container-id-1 input.sk-toggleable__control:checked~div.sk-toggleable__content {max-height: 200px;max-width: 100%;overflow: auto;}#sk-container-id-1 input.sk-toggleable__control:checked~label.sk-toggleable__label-arrow:before {content: \"▾\";}#sk-container-id-1 div.sk-estimator input.sk-toggleable__control:checked~label.sk-toggleable__label {background-color: #d4ebff;}#sk-container-id-1 div.sk-label input.sk-toggleable__control:checked~label.sk-toggleable__label {background-color: #d4ebff;}#sk-container-id-1 input.sk-hidden--visually {border: 0;clip: rect(1px 1px 1px 1px);clip: rect(1px, 1px, 1px, 1px);height: 1px;margin: -1px;overflow: hidden;padding: 0;position: absolute;width: 1px;}#sk-container-id-1 div.sk-estimator {font-family: monospace;background-color: #f0f8ff;border: 1px dotted black;border-radius: 0.25em;box-sizing: border-box;margin-bottom: 0.5em;}#sk-container-id-1 div.sk-estimator:hover {background-color: #d4ebff;}#sk-container-id-1 div.sk-parallel-item::after {content: \"\";width: 100%;border-bottom: 1px solid gray;flex-grow: 1;}#sk-container-id-1 div.sk-label:hover label.sk-toggleable__label {background-color: #d4ebff;}#sk-container-id-1 div.sk-serial::before {content: \"\";position: absolute;border-left: 1px solid gray;box-sizing: border-box;top: 0;bottom: 0;left: 50%;z-index: 0;}#sk-container-id-1 div.sk-serial {display: flex;flex-direction: column;align-items: center;background-color: white;padding-right: 0.2em;padding-left: 0.2em;position: relative;}#sk-container-id-1 div.sk-item {position: relative;z-index: 1;}#sk-container-id-1 div.sk-parallel {display: flex;align-items: stretch;justify-content: center;background-color: white;position: relative;}#sk-container-id-1 div.sk-item::before, #sk-container-id-1 div.sk-parallel-item::before {content: \"\";position: absolute;border-left: 1px solid gray;box-sizing: border-box;top: 0;bottom: 0;left: 50%;z-index: -1;}#sk-container-id-1 div.sk-parallel-item {display: flex;flex-direction: column;z-index: 1;position: relative;background-color: white;}#sk-container-id-1 div.sk-parallel-item:first-child::after {align-self: flex-end;width: 50%;}#sk-container-id-1 div.sk-parallel-item:last-child::after {align-self: flex-start;width: 50%;}#sk-container-id-1 div.sk-parallel-item:only-child::after {width: 0;}#sk-container-id-1 div.sk-dashed-wrapped {border: 1px dashed gray;margin: 0 0.4em 0.5em 0.4em;box-sizing: border-box;padding-bottom: 0.4em;background-color: white;}#sk-container-id-1 div.sk-label label {font-family: monospace;font-weight: bold;display: inline-block;line-height: 1.2em;}#sk-container-id-1 div.sk-label-container {text-align: center;}#sk-container-id-1 div.sk-container {/* jupyter's `normalize.less` sets `[hidden] { display: none; }` but bootstrap.min.css set `[hidden] { display: none !important; }` so we also need the `!important` here to be able to override the default hidden behavior on the sphinx rendered scikit-learn.org. See: https://github.com/scikit-learn/scikit-learn/issues/21755 */display: inline-block !important;position: relative;}#sk-container-id-1 div.sk-text-repr-fallback {display: none;}</style><div id=\"sk-container-id-1\" class=\"sk-top-container\"><div class=\"sk-text-repr-fallback\"><pre>LinearRegression()</pre><b>In a Jupyter environment, please rerun this cell to show the HTML representation or trust the notebook. <br />On GitHub, the HTML representation is unable to render, please try loading this page with nbviewer.org.</b></div><div class=\"sk-container\" hidden><div class=\"sk-item\"><div class=\"sk-estimator sk-toggleable\"><input class=\"sk-toggleable__control sk-hidden--visually\" id=\"sk-estimator-id-1\" type=\"checkbox\" checked><label for=\"sk-estimator-id-1\" class=\"sk-toggleable__label sk-toggleable__label-arrow\">LinearRegression</label><div class=\"sk-toggleable__content\"><pre>LinearRegression()</pre></div></div></div></div></div>"
      ],
      "text/plain": [
       "LinearRegression()"
      ]
     },
     "execution_count": 24,
     "metadata": {},
     "output_type": "execute_result"
    }
   ],
   "source": [
    "lr.fit(X_train, y_train)"
   ]
  },
  {
   "cell_type": "code",
   "execution_count": 25,
   "id": "52a511c8",
   "metadata": {},
   "outputs": [
    {
     "data": {
      "text/plain": [
       "-10936.55643749617"
      ]
     },
     "execution_count": 25,
     "metadata": {},
     "output_type": "execute_result"
    }
   ],
   "source": [
    "c = lr.intercept_\n",
    "c\n",
    "# determined constant"
   ]
  },
  {
   "cell_type": "code",
   "execution_count": 26,
   "id": "7a756a57",
   "metadata": {},
   "outputs": [
    {
     "data": {
      "text/plain": [
       "array([  252.15440619,   316.514758  ,   351.46251009,  -281.16765835,\n",
       "       24044.37169738,  -318.49464584])"
      ]
     },
     "execution_count": 26,
     "metadata": {},
     "output_type": "execute_result"
    }
   ],
   "source": [
    "m = lr.coef_\n",
    "m\n",
    "# model determined weightings on each predictor\n",
    "# smoking has a big influence on premiums whereas region and children does not"
   ]
  },
  {
   "cell_type": "code",
   "execution_count": 32,
   "id": "2110378a",
   "metadata": {},
   "outputs": [],
   "source": [
    "y_pred_train = lr.predict(X_train)"
   ]
  },
  {
   "cell_type": "code",
   "execution_count": 31,
   "id": "c65fbc2c",
   "metadata": {},
   "outputs": [
    {
     "data": {
      "image/png": "[encoded data removed]",
      "text/plain": [
       "<Figure size 640x480 with 1 Axes>"
      ]
     },
     "metadata": {},
     "output_type": "display_data"
    }
   ],
   "source": [
    "plt.scatter(y_train, y_pred_train)\n",
    "plt.title('Comparison of Prediction and Trained Data', size = 15, color = 'b');"
   ]
  },
  {
   "cell_type": "code",
   "execution_count": 36,
   "id": "7a903457",
   "metadata": {},
   "outputs": [],
   "source": [
    "from sklearn.metrics import r2_score"
   ]
  },
  {
   "cell_type": "code",
   "execution_count": 37,
   "id": "f2a3d063",
   "metadata": {},
   "outputs": [
    {
     "data": {
      "text/plain": [
       "0.7544083642384214"
      ]
     },
     "execution_count": 37,
     "metadata": {},
     "output_type": "execute_result"
    }
   ],
   "source": [
    "r2_score(y_train, y_pred_train)"
   ]
  },
  {
   "cell_type": "markdown",
   "id": "a9981d62",
   "metadata": {},
   "source": [
    "#### Using r2 score, predictions are only ~75% accurate"
   ]
  },
  {
   "cell_type": "code",
   "execution_count": 33,
   "id": "140dec9e",
   "metadata": {},
   "outputs": [
    {
     "data": {
      "text/plain": [
       "array([ 4.50048433e+03,  1.28194579e+04,  1.23977127e+04,  1.34303433e+04,\n",
       "        5.31776110e+02,  3.22642696e+04,  1.30762461e+04,  1.22348298e+04,\n",
       "        3.82932402e+03,  3.01565286e+04,  1.13198257e+04,  1.72084618e+04,\n",
       "        8.91832075e+03,  8.22883518e+03,  3.58166904e+03,  1.01918742e+04,\n",
       "        3.97134424e+03,  6.75521017e+03,  1.52141457e+04,  1.42498228e+04,\n",
       "        1.24184207e+04,  3.34497470e+04,  9.12417099e+03,  8.85380484e+03,\n",
       "        3.13406481e+03,  8.14417612e+03,  9.33914668e+03,  1.10793027e+04,\n",
       "        7.54531559e+03,  4.40537383e+03,  1.39112972e+04,  5.64886526e+03,\n",
       "        3.46827850e+04,  2.74022377e+04,  3.38105315e+04,  9.52560370e+03,\n",
       "        3.06087668e+04,  2.67066855e+04,  1.54113111e+04,  3.41398489e+04,\n",
       "        6.63468968e+03,  1.39736793e+04,  1.08971678e+04,  1.47980620e+04,\n",
       "        4.09741953e+03,  1.29622798e+04,  4.71597335e+03,  2.92771692e+04,\n",
       "        7.31791501e+03,  1.39529721e+04,  1.35190763e+04,  1.20798653e+04,\n",
       "        2.00264361e+03,  8.64372471e+03,  2.63767332e+04,  1.04916779e+04,\n",
       "        3.46735735e+04,  1.43468920e+04,  3.23348994e+03,  6.29736567e+03,\n",
       "        6.98470140e+03,  1.47780171e+04,  2.76393453e+04,  3.44489525e+03,\n",
       "        1.56083432e+04,  1.11420819e+04,  1.09545431e+04,  1.07407418e+04,\n",
       "        1.67519076e+03,  2.56544038e+04,  3.75895810e+04,  3.33336941e+04,\n",
       "        2.04616985e+03,  1.12035200e+04,  1.35991275e+04,  3.50861055e+04,\n",
       "        3.27463889e+03,  4.30118673e+03,  1.02364297e+04,  1.03546112e+04,\n",
       "        3.23442584e+01,  1.39306887e+04,  1.03085784e+04,  3.15238012e+03,\n",
       "        3.36380576e+04,  3.36105256e+04,  7.05773057e+03,  3.81603776e+04,\n",
       "        1.26761191e+04,  1.02501825e+04,  3.04850509e+04,  3.40650631e+04,\n",
       "        1.48087422e+04,  1.10825989e+04,  4.11113654e+02,  1.08403252e+04,\n",
       "        9.48537761e+03,  1.51224946e+04,  1.49163628e+04,  6.01879160e+03,\n",
       "        1.36012493e+04,  2.64495142e+04,  2.82131435e+04,  2.76768110e+04,\n",
       "        3.58853823e+04,  2.75494048e+04,  7.16807865e+02,  9.08394845e+03,\n",
       "        5.11953142e+03,  1.23735711e+04,  5.77349317e+03,  5.15551541e+03,\n",
       "        1.22297401e+03,  1.84838688e+04,  3.34637988e+03,  1.70169924e+03,\n",
       "        1.13254257e+04,  1.25688666e+04,  1.15823312e+04,  3.89118812e+03,\n",
       "        8.81845774e+03,  1.35673757e+04,  8.07362214e+03,  6.48417375e+03,\n",
       "        3.70752342e+04,  1.18410472e+04,  1.20147203e+04,  2.97987404e+04,\n",
       "        3.65419368e+04,  1.13672084e+04,  2.88098059e+04, -4.15653363e+02,\n",
       "        8.15842431e+03,  3.21776188e+04,  8.16170197e+03, -5.80902643e+02,\n",
       "        1.34324962e+03,  5.08141852e+03,  7.66027613e+03,  1.25281594e+04,\n",
       "        1.47400300e+04,  8.88786485e+03,  2.94736565e+04,  1.59493721e+04,\n",
       "        1.44644063e+04,  1.10823241e+04,  2.33156688e+03,  9.81905892e+03,\n",
       "        4.17684792e+03,  6.17453686e+03,  1.16380947e+04,  5.49511399e+03,\n",
       "        1.44371194e+04,  1.35368940e+04,  1.29567656e+04,  6.93152402e+03,\n",
       "        1.22170398e+04,  1.07737325e+04,  1.01781613e+04,  4.51445098e+03,\n",
       "        6.04095345e+03,  4.07288508e+04,  1.32533421e+04,  4.22971178e+03,\n",
       "        8.36232425e+03,  5.10409797e+03,  3.27599989e+04,  1.10368233e+04,\n",
       "        1.08378078e+04,  6.92112157e+03,  6.31196543e+03,  6.81049043e+03,\n",
       "        3.32617638e+04,  3.51535872e+04,  2.34868974e+03,  7.62654838e+03,\n",
       "        5.11912530e+03,  1.52484366e+04,  1.59630710e+03,  1.16725331e+04,\n",
       "        1.32930377e+04,  1.14208476e+04,  1.05722190e+04,  1.30853635e+04,\n",
       "        2.52660136e+03,  2.82242325e+04,  2.85209017e+03,  1.49736227e+04,\n",
       "        6.34728446e+03,  1.02594165e+04,  1.47715517e+04,  3.92349293e+04,\n",
       "        2.10047962e+03,  1.64512186e+03,  5.19386628e+03,  7.48803836e+03,\n",
       "        8.10145151e+03,  4.66137638e+03,  1.04572138e+04,  9.25525843e+03,\n",
       "        9.66304965e+03,  1.08919128e+04,  1.00585245e+04,  9.47538672e+03,\n",
       "        8.00979553e+03,  1.42567306e+03,  1.00146505e+04,  7.65475821e+03,\n",
       "        6.63471628e+03,  1.15647343e+04,  5.46833294e+03,  3.34283297e+04,\n",
       "        6.88422300e+03,  6.19170393e+03,  7.73997747e+03,  3.89000503e+04,\n",
       "        1.18217834e+04,  2.88908982e+04,  3.33795268e+03,  3.32276282e+04,\n",
       "        3.78871813e+03,  3.21690003e+04,  1.36901375e+04,  2.62854390e+03,\n",
       "        2.06490326e+03,  1.28494305e+03,  6.22545624e+03,  4.47910388e+03,\n",
       "        2.59006327e+04,  1.59757507e+04,  5.38750778e+03,  1.31665575e+04,\n",
       "        3.93309412e+04,  4.70486131e+03,  1.25236527e+04,  1.11590756e+04,\n",
       "        2.80523844e+04,  2.93690142e+03,  1.32114354e+04,  6.07062830e+03,\n",
       "        1.53887875e+04,  6.22086459e+03,  1.67152132e+04,  4.32862976e+03,\n",
       "        1.24587660e+04,  3.46907032e+04,  1.08669872e+04,  1.04391515e+04,\n",
       "        5.28304759e+03,  1.65991552e+04,  1.43077423e+04,  5.46002427e+03,\n",
       "        1.14216409e+04,  1.26089857e+04,  4.65965009e+03,  7.20971044e+03,\n",
       "        2.79797493e+04,  3.24458490e+04, -2.80471092e+02,  4.03570860e+04,\n",
       "        9.65947810e+03,  7.73481469e+03,  1.09612730e+04,  3.35810815e+04,\n",
       "        3.62123643e+04,  3.70689251e+04,  5.11240991e+03,  6.15779583e+03,\n",
       "        1.05284250e+04,  8.31585383e+03,  4.48690125e+03,  1.14816455e+04,\n",
       "        1.01917501e+04,  9.89265019e+03,  9.47630921e+03,  3.99730528e+04,\n",
       "        8.25654918e+03,  4.74205565e+03,  2.65407871e+04,  2.81756850e+04,\n",
       "        1.35353301e+03,  1.19658133e+04,  6.17771436e+03,  4.11182748e+03,\n",
       "        1.05101044e+04,  1.14204713e+04,  1.52112466e+04,  1.14688853e+04,\n",
       "        4.00221695e+03,  7.58593194e+03,  1.16301521e+04,  1.27710403e+04,\n",
       "        1.70956860e+04,  1.09689110e+04,  5.89828194e+03,  3.21414593e+04,\n",
       "        1.00577687e+04,  6.40680559e+03,  2.79432251e+03,  7.55954806e+03,\n",
       "        7.02648877e+03,  6.98769775e+03,  6.23852120e+03,  8.98952800e+03,\n",
       "        6.92364060e+03,  3.11259948e+04,  6.00124889e+03,  4.58050890e+03,\n",
       "        2.22382073e+03,  4.38926402e+03,  8.54010147e+03,  2.91843571e+03,\n",
       "        2.75617659e+04,  6.97732781e+03,  6.62333355e+03,  1.48844331e+04,\n",
       "        9.99600602e+03,  1.14120420e+04,  1.40588565e+04,  1.53041139e+04,\n",
       "        1.47928083e+04,  2.35408921e+04,  5.45606625e+03,  9.76618110e+03,\n",
       "        1.04545622e+04,  9.86591335e+03,  1.31258079e+04,  6.83776139e+03,\n",
       "        3.67185407e+03,  3.31306888e+04,  1.42933572e+04,  1.44793083e+04,\n",
       "        1.19478658e+04,  3.47061905e+03,  9.99156113e+03,  3.33436375e+03,\n",
       "        2.92911590e+03,  1.12265014e+04,  1.57392885e+04,  1.32793127e+04,\n",
       "        3.54955845e+04,  3.69917151e+03,  3.41948541e+04,  2.58713131e+03,\n",
       "        9.05071942e+03,  2.97458804e+04,  5.69437306e+03,  2.03601759e+03,\n",
       "        7.35846518e+03,  1.37191495e+04,  6.12611593e+02,  6.32136842e+03,\n",
       "        9.18785700e+03,  3.79364473e+04,  2.58894283e+04,  9.72820070e+03,\n",
       "        1.19307132e+04,  3.77736622e+04,  1.49937951e+04,  3.48762300e+03,\n",
       "        5.61617566e+03,  9.14025193e+03,  1.65803357e+04,  9.96873302e+03,\n",
       "        7.69921929e+03,  1.03947201e+04,  3.08040867e+04,  3.18046316e+04,\n",
       "        6.75850484e+03,  3.20223602e+04,  3.42800259e+04,  1.46353372e+04,\n",
       "        9.10268740e+03,  1.03310077e+04,  5.46633327e+03,  1.20971614e+04,\n",
       "        1.47335647e+04,  4.23288914e+03,  1.32568189e+04,  1.29992112e+04,\n",
       "        1.03298417e+04,  2.80075354e+04,  2.70820274e+04,  3.31135583e+04,\n",
       "        1.25252514e+04,  1.48915770e+04,  1.69449512e+04,  4.29630585e+03,\n",
       "        9.70262985e+03,  9.19416992e+03,  3.21648201e+04,  3.89685068e+04,\n",
       "        1.12870257e+04,  3.58122304e+04,  2.77084624e+04,  3.23002452e+04,\n",
       "        9.08157589e+03,  1.61147738e+04,  3.69098919e+03,  3.21740900e+03,\n",
       "        2.73105622e+04,  9.39253798e+03])"
      ]
     },
     "execution_count": 33,
     "metadata": {},
     "output_type": "execute_result"
    }
   ],
   "source": [
    "y_pred_test = lr.predict(X_test)\n",
    "y_pred_test\n",
    "# Predictions on test predictors"
   ]
  },
  {
   "cell_type": "code",
   "execution_count": 34,
   "id": "d363b8ba",
   "metadata": {},
   "outputs": [
    {
     "data": {
      "image/png": "[encoded data removed]",
      "text/plain": [
       "<Figure size 640x480 with 1 Axes>"
      ]
     },
     "metadata": {},
     "output_type": "display_data"
    }
   ],
   "source": [
    "plt.scatter(y_test, y_pred_test)\n",
    "plt.title('Comparison of Prediction and Test Data', size = 15, color = 'b');"
   ]
  },
  {
   "cell_type": "code",
   "execution_count": 38,
   "id": "e2b74184",
   "metadata": {},
   "outputs": [
    {
     "data": {
      "text/plain": [
       "0.740367716897532"
      ]
     },
     "execution_count": 38,
     "metadata": {},
     "output_type": "execute_result"
    }
   ],
   "source": [
    "r2_score(y_test, y_pred_test)"
   ]
  },
  {
   "cell_type": "markdown",
   "id": "890c0217",
   "metadata": {},
   "source": [
    "#### Model is only accurate ~74% of the time on test data"
   ]
  },
  {
   "cell_type": "markdown",
   "id": "1c3a44a6",
   "metadata": {},
   "source": [
    "# Using the model now to calculate premiums based on given parameters"
   ]
  },
  {
   "cell_type": "code",
   "execution_count": 39,
   "id": "d5431afd",
   "metadata": {},
   "outputs": [],
   "source": [
    "dood = [[20,30,0,1,0,2]]\n",
    "\n",
    "# Age - 20, bmi - 30, children -  0, sex - 1, smoker - 0, region - 2"
   ]
  },
  {
   "cell_type": "code",
   "execution_count": 40,
   "id": "c4a1f31b",
   "metadata": {},
   "outputs": [
    {
     "name": "stderr",
     "output_type": "stream",
     "text": [
      "C:\\Users\\ton77\\anaconda3\\Lib\\site-packages\\sklearn\\base.py:464: UserWarning: X does not have valid feature names, but LinearRegression was fitted with feature names\n",
      "  warnings.warn(\n"
     ]
    },
    {
     "data": {
      "text/plain": [
       "array([2683.81747629])"
      ]
     },
     "execution_count": 40,
     "metadata": {},
     "output_type": "execute_result"
    }
   ],
   "source": [
    "custom_pred = lr.predict(dood)\n",
    "custom_pred"
   ]
  },
  {
   "cell_type": "code",
   "execution_count": 50,
   "id": "c272c110",
   "metadata": {},
   "outputs": [],
   "source": [
    "dood_2 = [[40,35,3,1,1,2]]\n",
    "\n",
    "# Age - 40, bmi - 35, children -  3, sex - 1, smoker - 1, region - 2"
   ]
  },
  {
   "cell_type": "code",
   "execution_count": 51,
   "id": "cd60902f",
   "metadata": {},
   "outputs": [
    {
     "name": "stderr",
     "output_type": "stream",
     "text": [
      "C:\\Users\\ton77\\anaconda3\\Lib\\site-packages\\sklearn\\base.py:464: UserWarning: X does not have valid feature names, but LinearRegression was fitted with feature names\n",
      "  warnings.warn(\n"
     ]
    },
    {
     "data": {
      "text/plain": [
       "array([34408.23861774])"
      ]
     },
     "execution_count": 51,
     "metadata": {},
     "output_type": "execute_result"
    }
   ],
   "source": [
    "custom_pred_2 = lr.predict(dood_2)\n",
    "custom_pred_2"
   ]
  },
  {
   "cell_type": "markdown",
   "id": "03a0f713",
   "metadata": {},
   "source": [
    "#### Examining the difference in premiums between the 2 persons, the premiums calculated make sense. An older person who has higher bmi and is a smoker will be charged higher premiums (34k compared to 2.6k) as they will be more likely to obtain payout due to the risk factors they face"
   ]
  },
  {
   "cell_type": "code",
   "execution_count": null,
   "id": "d0becf47",
   "metadata": {},
   "outputs": [],
   "source": []
  }
 ],
 "metadata": {
  "kernelspec": {
   "display_name": "Python 3 (ipykernel)",
   "language": "python",
   "name": "python3"
  },
  "language_info": {
   "codemirror_mode": {
    "name": "ipython",
    "version": 3
   },
   "file_extension": ".py",
   "mimetype": "text/x-python",
   "name": "python",
   "nbconvert_exporter": "python",
   "pygments_lexer": "ipython3",
   "version": "3.11.5"
  }
 },
 "nbformat": 4,
 "nbformat_minor": 5
}
